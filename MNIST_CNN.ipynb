{
 "cells": [
  {
   "cell_type": "markdown",
   "id": "bf29aaaa-8b8a-4fe8-a92f-589b3ddad15f",
   "metadata": {},
   "source": [
    "HANDWRITTEN DIGITS using CNN"
   ]
  },
  {
   "cell_type": "code",
   "execution_count": null,
   "id": "51dc625a-e49a-4a5d-8218-552da11325b9",
   "metadata": {},
   "outputs": [],
   "source": [
    "from keras.datasets import mnist\n",
    "\n",
    "# loading the dataset\n",
    "(X_train, y_train), (X_test, y_test) = mnist.load_data()\n",
    "# let's print the shape of the dataset\n",
    "print(\"X_train shape\", X_train.shape)\n",
    "print(\"y_train shape\", y_train.shape)\n",
    "print(\"X_test shape\", X_test.shape)\n",
    "print(\"y_test shape\", y_test.shape)"
   ]
  },
  {
   "cell_type": "code",
   "execution_count": null,
   "id": "c0c53348-97dd-41de-9ebb-248fc2b1444d",
   "metadata": {},
   "outputs": [],
   "source": [
    "###Basic neural networks (ReLU)"
   ]
  },
  {
   "cell_type": "code",
   "execution_count": 7,
   "id": "dc11fac2-1421-4862-8bcb-484007c124b5",
   "metadata": {},
   "outputs": [
    {
     "name": "stdout",
     "output_type": "stream",
     "text": [
      "Shape before one-hot encoding:  (60000,)\n",
      "Shape after one-hot encoding:  (60000, 10)\n",
      "Model: \"sequential_1\"\n",
      "_________________________________________________________________\n",
      " Layer (type)                Output Shape              Param #   \n",
      "=================================================================\n",
      " dense_2 (Dense)             (None, 100)               78500     \n",
      "                                                                 \n",
      " dense_3 (Dense)             (None, 10)                1010      \n",
      "                                                                 \n",
      "=================================================================\n",
      "Total params: 79510 (310.59 KB)\n",
      "Trainable params: 79510 (310.59 KB)\n",
      "Non-trainable params: 0 (0.00 Byte)\n",
      "_________________________________________________________________\n",
      "Epoch 1/10\n",
      "469/469 [==============================] - 1s 2ms/step - loss: 2.3015 - accuracy: 0.1116 - val_loss: 2.3009 - val_accuracy: 0.1135\n",
      "Epoch 2/10\n",
      "469/469 [==============================] - 1s 2ms/step - loss: 2.3012 - accuracy: 0.1124 - val_loss: 2.3008 - val_accuracy: 0.1135\n",
      "Epoch 3/10\n",
      "469/469 [==============================] - 1s 2ms/step - loss: 2.3010 - accuracy: 0.1124 - val_loss: 2.3006 - val_accuracy: 0.1135\n",
      "Epoch 4/10\n",
      "469/469 [==============================] - 1s 2ms/step - loss: 2.3007 - accuracy: 0.1124 - val_loss: 2.3004 - val_accuracy: 0.1135\n",
      "Epoch 5/10\n",
      "469/469 [==============================] - 1s 2ms/step - loss: 2.3004 - accuracy: 0.1124 - val_loss: 2.2998 - val_accuracy: 0.1135\n",
      "Epoch 6/10\n",
      "469/469 [==============================] - 1s 2ms/step - loss: 2.2997 - accuracy: 0.1124 - val_loss: 2.2991 - val_accuracy: 0.1135\n",
      "Epoch 7/10\n",
      "469/469 [==============================] - 1s 2ms/step - loss: 2.2989 - accuracy: 0.1124 - val_loss: 2.2980 - val_accuracy: 0.1135\n",
      "Epoch 8/10\n",
      "469/469 [==============================] - 1s 2ms/step - loss: 2.2973 - accuracy: 0.1124 - val_loss: 2.2959 - val_accuracy: 0.1135\n",
      "Epoch 9/10\n",
      "469/469 [==============================] - 1s 2ms/step - loss: 2.2951 - accuracy: 0.1124 - val_loss: 2.2933 - val_accuracy: 0.1135\n",
      "Epoch 10/10\n",
      "469/469 [==============================] - 1s 2ms/step - loss: 2.2921 - accuracy: 0.1153 - val_loss: 2.2895 - val_accuracy: 0.1135\n"
     ]
    },
    {
     "data": {
      "text/plain": [
       "<keras.src.callbacks.History at 0x289f05c4b10>"
      ]
     },
     "execution_count": 7,
     "metadata": {},
     "output_type": "execute_result"
    }
   ],
   "source": [
    "# keras imports for the dataset and building our neural network\n",
    "from keras.datasets import mnist\n",
    "from keras.models import Sequential\n",
    "from keras.layers import Dense, Dropout, Conv2D, MaxPool2D\n",
    "#from keras.utils import np_utils\n",
    "from tensorflow.keras.utils import to_categorical\n",
    "\n",
    "\n",
    "# Flattening the images from the 28x28 pixels to 1D 787 pixels\n",
    "X_train = X_train.reshape(60000, 784)\n",
    "X_test = X_test.reshape(10000, 784)\n",
    "X_train = X_train.astype('float32')\n",
    "X_test = X_test.astype('float32')\n",
    "\n",
    "# normalizing the data to help with the training\n",
    "X_train /= 255\n",
    "X_test /= 255\n",
    "\n",
    "# one-hot encoding using keras' numpy-related utilities\n",
    "n_classes = 10\n",
    "print(\"Shape before one-hot encoding: \", y_train.shape)\n",
    "Y_train = to_categorical(y_train, n_classes)\n",
    "Y_test = to_categorical(y_test, n_classes)\n",
    "print(\"Shape after one-hot encoding: \", Y_train.shape)\n",
    "\n",
    "# building a linear stack of layers with the sequential model\n",
    "model = Sequential()\n",
    "# hidden layer\n",
    "model.add(Dense(100, input_shape=(784,), activation='relu'))\n",
    "# output layer\n",
    "model.add(Dense(10, activation='softmax'))\n",
    "\n",
    "# looking at the model summary\n",
    "model.summary()\n",
    "# compiling the sequential model\n",
    "model.compile(loss='categorical_crossentropy', metrics=['accuracy'], optimizer='adam')\n",
    "# training the model for 10 epochs\n",
    "model.fit(X_train, Y_train, batch_size=128, epochs=10, validation_data=(X_test, Y_test))"
   ]
  },
  {
   "cell_type": "code",
   "execution_count": null,
   "id": "1651a88e-3a9e-4ab2-9aa2-f0cbef35ef2b",
   "metadata": {},
   "outputs": [],
   "source": [
    "### CNN Model"
   ]
  },
  {
   "cell_type": "code",
   "execution_count": 9,
   "id": "69c226db-fe40-4881-a171-6bf32f8ad431",
   "metadata": {},
   "outputs": [
    {
     "name": "stdout",
     "output_type": "stream",
     "text": [
      "Shape before one-hot encoding:  (60000,)\n",
      "Shape after one-hot encoding:  (60000, 10)\n",
      "WARNING:tensorflow:From C:\\Users\\ACER\\anaconda3\\Lib\\site-packages\\keras\\src\\layers\\pooling\\max_pooling2d.py:161: The name tf.nn.max_pool is deprecated. Please use tf.nn.max_pool2d instead.\n",
      "\n",
      "Epoch 1/10\n",
      "469/469 [==============================] - 12s 25ms/step - loss: 0.1977 - accuracy: 0.9423 - val_loss: 0.0804 - val_accuracy: 0.9743\n",
      "Epoch 2/10\n",
      "469/469 [==============================] - 12s 25ms/step - loss: 0.0629 - accuracy: 0.9813 - val_loss: 0.0540 - val_accuracy: 0.9826\n",
      "Epoch 3/10\n",
      "469/469 [==============================] - 13s 27ms/step - loss: 0.0389 - accuracy: 0.9879 - val_loss: 0.0515 - val_accuracy: 0.9829\n",
      "Epoch 4/10\n",
      "469/469 [==============================] - 12s 25ms/step - loss: 0.0251 - accuracy: 0.9923 - val_loss: 0.0548 - val_accuracy: 0.9829\n",
      "Epoch 5/10\n",
      "469/469 [==============================] - 12s 25ms/step - loss: 0.0159 - accuracy: 0.9954 - val_loss: 0.0532 - val_accuracy: 0.9835\n",
      "Epoch 6/10\n",
      "469/469 [==============================] - 12s 26ms/step - loss: 0.0116 - accuracy: 0.9968 - val_loss: 0.0549 - val_accuracy: 0.9837\n",
      "Epoch 7/10\n",
      "469/469 [==============================] - 12s 25ms/step - loss: 0.0088 - accuracy: 0.9974 - val_loss: 0.0505 - val_accuracy: 0.9863\n",
      "Epoch 8/10\n",
      "469/469 [==============================] - 12s 25ms/step - loss: 0.0067 - accuracy: 0.9977 - val_loss: 0.0587 - val_accuracy: 0.9841\n",
      "Epoch 9/10\n",
      "469/469 [==============================] - 12s 25ms/step - loss: 0.0054 - accuracy: 0.9984 - val_loss: 0.0604 - val_accuracy: 0.9844\n",
      "Epoch 10/10\n",
      "469/469 [==============================] - 12s 25ms/step - loss: 0.0047 - accuracy: 0.9987 - val_loss: 0.0553 - val_accuracy: 0.9850\n"
     ]
    },
    {
     "data": {
      "text/plain": [
       "<keras.src.callbacks.History at 0x289f0ea8610>"
      ]
     },
     "execution_count": 9,
     "metadata": {},
     "output_type": "execute_result"
    }
   ],
   "source": [
    "# keras imports for the dataset and building our neural network\n",
    "from keras.datasets import mnist\n",
    "from keras.models import Sequential\n",
    "from keras.layers import Dense, Dropout, Conv2D, MaxPool2D, Flatten\n",
    "#from keras.utils import np_utils\n",
    "from tensorflow.keras.utils import to_categorical\n",
    "\n",
    "# to calculate accuracy\n",
    "from sklearn.metrics import accuracy_score\n",
    "\n",
    "# loading the dataset\n",
    "(X_train, y_train), (X_test, y_test) = mnist.load_data()\n",
    "\n",
    "# building the input vector from the 28x28 pixels\n",
    "X_train = X_train.reshape(X_train.shape[0], 28, 28, 1)\n",
    "X_test = X_test.reshape(X_test.shape[0], 28, 28, 1)\n",
    "X_train = X_train.astype('float32')\n",
    "X_test = X_test.astype('float32')\n",
    "\n",
    "# normalizing the data to help with the training\n",
    "X_train /= 255\n",
    "X_test /= 255\n",
    "\n",
    "# one-hot encoding using keras' numpy-related utilities\n",
    "n_classes = 10\n",
    "print(\"Shape before one-hot encoding: \", y_train.shape)\n",
    "Y_train = to_categorical(y_train, n_classes)\n",
    "Y_test = to_categorical(y_test, n_classes)\n",
    "print(\"Shape after one-hot encoding: \", Y_train.shape)\n",
    "\n",
    "# building a linear stack of layers with the sequential model\n",
    "model = Sequential()\n",
    "# convolutional layer\n",
    "model.add(Conv2D(25, kernel_size=(3,3), strides=(1,1), padding='valid', activation='relu', input_shape=(28,28,1)))\n",
    "model.add(MaxPool2D(pool_size=(1,1)))\n",
    "# flatten output of conv\n",
    "model.add(Flatten())\n",
    "# hidden layer\n",
    "model.add(Dense(100, activation='relu'))\n",
    "# output layer\n",
    "model.add(Dense(10, activation='softmax'))\n",
    "\n",
    "# compiling the sequential model\n",
    "model.compile(loss='categorical_crossentropy', metrics=['accuracy'], optimizer='adam')\n",
    "\n",
    "# training the model for 10 epochs\n",
    "model.fit(X_train, Y_train, batch_size=128, epochs=10, validation_data=(X_test, Y_test))"
   ]
  },
  {
   "cell_type": "markdown",
   "id": "680e1a5b-add1-48ec-839f-9d0a941c9c33",
   "metadata": {},
   "source": [
    "Identifying Images From the CIFAR-10 Dataset Using CNNs"
   ]
  },
  {
   "cell_type": "code",
   "execution_count": 10,
   "id": "63d6a60e-2dd3-47c5-97cc-41ccd47ef4f7",
   "metadata": {},
   "outputs": [],
   "source": [
    "from keras.datasets import cifar10\n",
    "# loading the dataset \n",
    "(X_train, y_train), (X_test, y_test) = cifar10.load_data()"
   ]
  },
  {
   "cell_type": "code",
   "execution_count": 12,
   "id": "60397c4c-9a5a-4369-a75f-eaf59ed8cf0d",
   "metadata": {},
   "outputs": [
    {
     "name": "stdout",
     "output_type": "stream",
     "text": [
      "Shape before one-hot encoding:  (50000, 1)\n",
      "Shape after one-hot encoding:  (50000, 10)\n",
      "Epoch 1/10\n",
      "391/391 [==============================] - 74s 188ms/step - loss: 1.6106 - accuracy: 0.4049 - val_loss: 1.2050 - val_accuracy: 0.5681\n",
      "Epoch 2/10\n",
      "391/391 [==============================] - 74s 189ms/step - loss: 1.1251 - accuracy: 0.5982 - val_loss: 0.9541 - val_accuracy: 0.6744\n",
      "Epoch 3/10\n",
      "391/391 [==============================] - 74s 189ms/step - loss: 0.9330 - accuracy: 0.6722 - val_loss: 0.8465 - val_accuracy: 0.7047\n",
      "Epoch 4/10\n",
      "391/391 [==============================] - 75s 192ms/step - loss: 0.8147 - accuracy: 0.7165 - val_loss: 0.7488 - val_accuracy: 0.7442\n",
      "Epoch 5/10\n",
      "391/391 [==============================] - 74s 190ms/step - loss: 0.7250 - accuracy: 0.7455 - val_loss: 0.7035 - val_accuracy: 0.7578\n",
      "Epoch 6/10\n",
      "391/391 [==============================] - 73s 186ms/step - loss: 0.6605 - accuracy: 0.7697 - val_loss: 0.6848 - val_accuracy: 0.7624\n",
      "Epoch 7/10\n",
      "391/391 [==============================] - 71s 183ms/step - loss: 0.5985 - accuracy: 0.7901 - val_loss: 0.6620 - val_accuracy: 0.7712\n",
      "Epoch 8/10\n",
      "391/391 [==============================] - 72s 184ms/step - loss: 0.5537 - accuracy: 0.8051 - val_loss: 0.6681 - val_accuracy: 0.7713\n",
      "Epoch 9/10\n",
      "391/391 [==============================] - 74s 190ms/step - loss: 0.5099 - accuracy: 0.8214 - val_loss: 0.6486 - val_accuracy: 0.7802\n",
      "Epoch 10/10\n",
      "391/391 [==============================] - 78s 200ms/step - loss: 0.4689 - accuracy: 0.8338 - val_loss: 0.6655 - val_accuracy: 0.7789\n"
     ]
    },
    {
     "data": {
      "text/plain": [
       "<keras.src.callbacks.History at 0x28983521e10>"
      ]
     },
     "execution_count": 12,
     "metadata": {},
     "output_type": "execute_result"
    }
   ],
   "source": [
    "# keras imports for the dataset and building our neural network\n",
    "from keras.datasets import cifar10\n",
    "from keras.models import Sequential\n",
    "from keras.layers import Dense, Dropout, Conv2D, MaxPool2D, Flatten\n",
    "#from keras.utils import np_utils\n",
    "from tensorflow.keras.utils import to_categorical\n",
    "\n",
    "# loading the dataset\n",
    "(X_train, y_train), (X_test, y_test) = cifar10.load_data()\n",
    "\n",
    "# # building the input vector from the 32x32 pixels\n",
    "X_train = X_train.reshape(X_train.shape[0], 32, 32, 3)\n",
    "X_test = X_test.reshape(X_test.shape[0], 32, 32, 3)\n",
    "X_train = X_train.astype('float32')\n",
    "X_test = X_test.astype('float32')\n",
    "\n",
    "# normalizing the data to help with the training\n",
    "X_train /= 255\n",
    "X_test /= 255\n",
    "\n",
    "# one-hot encoding using keras' numpy-related utilities\n",
    "n_classes = 10\n",
    "print(\"Shape before one-hot encoding: \", y_train.shape)\n",
    "Y_train = to_categorical(y_train, n_classes)\n",
    "Y_test = to_categorical(y_test, n_classes)\n",
    "print(\"Shape after one-hot encoding: \", Y_train.shape)\n",
    "\n",
    "# building a linear stack of layers with the sequential model\n",
    "model = Sequential()\n",
    "\n",
    "# convolutional layer\n",
    "model.add(Conv2D(50, kernel_size=(3,3), strides=(1,1), padding='same', activation='relu', input_shape=(32, 32, 3)))\n",
    "\n",
    "# convolutional layer\n",
    "model.add(Conv2D(75, kernel_size=(3,3), strides=(1,1), padding='same', activation='relu'))\n",
    "model.add(MaxPool2D(pool_size=(2,2)))\n",
    "model.add(Dropout(0.25))\n",
    "\n",
    "model.add(Conv2D(125, kernel_size=(3,3), strides=(1,1), padding='same', activation='relu'))\n",
    "model.add(MaxPool2D(pool_size=(2,2)))\n",
    "model.add(Dropout(0.25))\n",
    "\n",
    "# flatten output of conv\n",
    "model.add(Flatten())\n",
    "\n",
    "# hidden layer\n",
    "model.add(Dense(500, activation='relu'))\n",
    "model.add(Dropout(0.4))\n",
    "model.add(Dense(250, activation='relu'))\n",
    "model.add(Dropout(0.3))\n",
    "# output layer\n",
    "model.add(Dense(10, activation='softmax'))\n",
    "\n",
    "# compiling the sequential model\n",
    "model.compile(loss='categorical_crossentropy', metrics=['accuracy'], optimizer='adam')\n",
    "\n",
    "# training the model for 10 epochs\n",
    "model.fit(X_train, Y_train, batch_size=128, epochs=10, validation_data=(X_test, Y_test))"
   ]
  },
  {
   "cell_type": "markdown",
   "id": "fd499e02-26db-4969-ac75-c85fcd7bd62b",
   "metadata": {},
   "source": [
    "NEED TO LEARN VGG16 AND TRANSFER LEARNING"
   ]
  }
 ],
 "metadata": {
  "kernelspec": {
   "display_name": "Python 3 (ipykernel)",
   "language": "python",
   "name": "python3"
  },
  "language_info": {
   "codemirror_mode": {
    "name": "ipython",
    "version": 3
   },
   "file_extension": ".py",
   "mimetype": "text/x-python",
   "name": "python",
   "nbconvert_exporter": "python",
   "pygments_lexer": "ipython3",
   "version": "3.11.5"
  }
 },
 "nbformat": 4,
 "nbformat_minor": 5
}
